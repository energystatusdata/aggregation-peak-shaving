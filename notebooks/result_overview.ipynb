{
 "cells": [
  {
   "cell_type": "code",
   "execution_count": null,
   "metadata": {},
   "outputs": [],
   "source": [
    "library(tidyverse)\n",
    "library(xtable)\n",
    "library(extrafont)\n",
    "#font_import() #only run this once when exporting. Make sure youe h\n",
    "loadfonts()\n",
    "fonts()"
   ]
  },
  {
   "cell_type": "code",
   "execution_count": null,
   "metadata": {},
   "outputs": [],
   "source": [
    "library(RColorBrewer)\n",
    "custom_pal <- brewer.pal(5, \"Set1\")[c(2,3,4)]\n",
    "\n",
    "custom_theme <- theme_bw() +\n",
    "        theme(panel.border = element_blank(),\n",
    "        panel.grid.major.x = element_blank(),\n",
    "        panel.grid.minor.x = element_blank())"
   ]
  },
  {
   "cell_type": "markdown",
   "metadata": {},
   "source": [
    "### Data Loading"
   ]
  },
  {
   "cell_type": "code",
   "execution_count": null,
   "metadata": {},
   "outputs": [],
   "source": [
    "source(\"data_load.R\")"
   ]
  },
  {
   "cell_type": "code",
   "execution_count": null,
   "metadata": {},
   "outputs": [],
   "source": [
    "df <- load_from_path(\"../data\") %>% \n",
    "    mutate(multi = factor(multi)) %>%\n",
    "    filter(max_peak %in% c(38,40,42,45,50))"
   ]
  },
  {
   "cell_type": "markdown",
   "metadata": {},
   "source": [
    "### Overview "
   ]
  },
  {
   "cell_type": "markdown",
   "metadata": {},
   "source": [
    "Some overviews on the result data set"
   ]
  },
  {
   "cell_type": "code",
   "execution_count": null,
   "metadata": {},
   "outputs": [],
   "source": [
    "df[301:310,]"
   ]
  },
  {
   "cell_type": "markdown",
   "metadata": {},
   "source": [
    "Summary for a specific scenario"
   ]
  },
  {
   "cell_type": "code",
   "execution_count": null,
   "metadata": {},
   "outputs": [],
   "source": [
    "df %>% \n",
    "    filter(multi==1, aggregation_interval == 5, max_peak == 40, aggregation_type == \"average\") %>% \n",
    "    select(day, C, C_reference, R, R_rel, fft1, fft8n) %>%\n",
    "    summary()"
   ]
  },
  {
   "cell_type": "markdown",
   "metadata": {},
   "source": [
    "Number of days where optimization problem with a given `max_peak` is infeasible, and where no battery is needed"
   ]
  },
  {
   "cell_type": "code",
   "execution_count": null,
   "metadata": {},
   "outputs": [],
   "source": [
    "df %>%\n",
    "    filter(aggregation_interval == 5, aggregation_type == \"average\") %>%\n",
    "    group_by(max_peak, aggregation_interval) %>%    \n",
    "    mutate(C_state = case_when(is.na(C) ~ \"Infeasible\",\n",
    "                         C == 0 ~ \"No Battery Needed\",\n",
    "                         C > 0 ~ \"Battery Size > 0\")) %>%\n",
    "    group_by(max_peak, aggregation_interval, C_state) %>%    \n",
    "    summarize(n = n()) %>%\n",
    "    spread(C_state, n) %>%\n",
    "    #mutate(Infeasible = replace_na(Infeasible, 0)) %>%\n",
    "    arrange(max_peak, aggregation_interval)"
   ]
  },
  {
   "cell_type": "code",
   "execution_count": null,
   "metadata": {},
   "outputs": [],
   "source": [
    "df %>%\n",
    "    filter(aggregation_interval >= 60, aggregation_interval <= 900, aggregation_type == \"average\") %>%\n",
    "    group_by(max_peak, aggregation_interval) %>%    \n",
    "    mutate(C_state = case_when(is.na(C) ~ \"Infeasible\",\n",
    "                         C == 0 ~ \"No Battery Needed\",\n",
    "                         C > 0 ~ \"Battery Size > 0\")) %>%\n",
    "    group_by(max_peak, aggregation_interval, C_state) %>%    \n",
    "    summarize(n = n()) %>%\n",
    "    spread(C_state, n) %>%\n",
    "    mutate(Infeasible = replace_na(Infeasible, 0)) %>%\n",
    "    arrange(max_peak, aggregation_interval)"
   ]
  },
  {
   "cell_type": "markdown",
   "metadata": {},
   "source": [
    "In relative frequencies"
   ]
  },
  {
   "cell_type": "code",
   "execution_count": null,
   "metadata": {},
   "outputs": [],
   "source": [
    "df %>%\n",
    "    filter(aggregation_interval >= 60, aggregation_interval <= 900, aggregation_type == \"average\") %>%\n",
    "    group_by(max_peak, aggregation_interval) %>%    \n",
    "    mutate(C_state = case_when(is.na(C) ~ \"Infeasible\",\n",
    "                         C == 0 ~ \"No Battery Needed\",\n",
    "                         C > 0 ~ \"Battery Size > 0\")) %>%\n",
    "    group_by(max_peak, aggregation_interval, C_state) %>%    \n",
    "    summarize(n = n()) %>%\n",
    "    mutate(freq = round(n / sum(n), 2)) %>%\n",
    "    select(-n)%>%\n",
    "    spread(C_state, freq) %>%\n",
    "    mutate(Infeasible = replace_na(Infeasible, 0)) %>%\n",
    "    arrange(max_peak, aggregation_interval)"
   ]
  },
  {
   "cell_type": "markdown",
   "metadata": {},
   "source": [
    "### Results"
   ]
  },
  {
   "cell_type": "markdown",
   "metadata": {},
   "source": [
    "#### Filtering"
   ]
  },
  {
   "cell_type": "markdown",
   "metadata": {},
   "source": [
    "Filter for feasible solutions with positive battery size"
   ]
  },
  {
   "cell_type": "code",
   "execution_count": null,
   "metadata": {},
   "outputs": [],
   "source": [
    "df_res <- df %>% \n",
    "    filter(!is.na(C), C > 0)"
   ]
  },
  {
   "cell_type": "markdown",
   "metadata": {},
   "source": [
    "Actual battery capacities in the data"
   ]
  },
  {
   "cell_type": "code",
   "execution_count": null,
   "metadata": {},
   "outputs": [],
   "source": [
    "df_res %>%\n",
    "    filter(aggregation_interval == 5, max_peak == 40) %>%    \n",
    "    summary()\n",
    "#    mutate(freq = round(n / sum(n), 2)) %>%\n",
    "#    select(-n)%>%\n",
    "#   spread(C_state, freq) %>%\n",
    "#    mutate(Infeasible = replace_na(Infeasible, 0)) %>%\n",
    "#    arrange(max_peak, aggregation_interval)"
   ]
  },
  {
   "cell_type": "markdown",
   "metadata": {},
   "source": [
    "#### Comparison of R on different sampling rates"
   ]
  },
  {
   "cell_type": "markdown",
   "metadata": {},
   "source": [
    "The scaling of the factory affects the battery dimension by the same factor."
   ]
  },
  {
   "cell_type": "code",
   "execution_count": null,
   "metadata": {},
   "outputs": [],
   "source": [
    "df_res %>% filter(aggregation_type == \"average\", aggregation_interval == 900) %>% \n",
    "    group_by(multi, aggregation_interval, max_peak) %>% \n",
    "    summarize(max_C = max(C))%>%\n",
    "    mutate(scaled_max_C = max_C / as.numeric(levels(multi)[multi])) %>%\n",
    "    ungroup() %>%\n",
    "    select(multi, max_peak, scaled_max_C) %>% \n",
    "    spread(multi, scaled_max_C, sep = \"_\")"
   ]
  },
  {
   "cell_type": "code",
   "execution_count": null,
   "metadata": {},
   "outputs": [],
   "source": [
    "df_res <- df_res %>% filter(multi == 1)"
   ]
  },
  {
   "cell_type": "markdown",
   "metadata": {},
   "source": [
    "Comparison of different `max_peak` and `aggregation_interval`"
   ]
  },
  {
   "cell_type": "code",
   "execution_count": null,
   "metadata": {},
   "outputs": [],
   "source": [
    "options(repr.plot.width=6, repr.plot.height=5)\n",
    "df_res %>%\n",
    "    filter(aggregation_interval > 0) %>%\n",
    "    ggplot() +\n",
    "    geom_boxplot(aes(x=factor(aggregation_interval), y=R, color=factor(aggregation_type))) +\n",
    "    facet_grid(rows = vars(max_peak), labeller = purrr::partial(label_both, sep = \" = \")) +\n",
    "    labs(x=\"Sampling Period [s]\", y=\"R [kWh]\", color=\"Sampling Mode\") +\n",
    "    scale_colour_manual(values=custom_pal) +\n",
    "    custom_theme +\n",
    "    theme(strip.background = element_rect(colour = FALSE, fill = \"white\"),\n",
    "          panel.spacing = unit(2, \"lines\"))"
   ]
  },
  {
   "cell_type": "markdown",
   "metadata": {},
   "source": [
    "#### Relative Error"
   ]
  },
  {
   "cell_type": "code",
   "execution_count": null,
   "metadata": {},
   "outputs": [],
   "source": [
    "options(repr.plot.width=6, repr.plot.height=5)\n",
    "df_res %>%\n",
    "    filter(aggregation_interval > 0) %>%\n",
    "    ggplot() +\n",
    "    geom_boxplot(aes(x=factor(aggregation_interval), y=R_rel, color=factor(aggregation_type))) +\n",
    "    facet_grid(rows = vars(max_peak), labeller = purrr::partial(label_both, sep = \" = \")) +\n",
    "    labs(x=\"Sampling Period [s]\", y=\"relative Error\", color=\"Sampling Mode\") +\n",
    "    scale_colour_manual(values=custom_pal) +\n",
    "    custom_theme +\n",
    "    theme(strip.background = element_rect(colour = FALSE, fill = \"white\"),\n",
    "          panel.spacing = unit(2, \"lines\"))"
   ]
  },
  {
   "cell_type": "markdown",
   "metadata": {},
   "source": [
    "# Detailed plot for `max_peak = 40`"
   ]
  },
  {
   "cell_type": "code",
   "execution_count": null,
   "metadata": {},
   "outputs": [],
   "source": [
    "options(repr.plot.width=8, repr.plot.height=3)\n",
    "df_res %>%\n",
    "    filter(aggregation_interval > 0, aggregation_interval != 2700, max_peak == 40) %>%\n",
    "    ggplot(aes(x=factor(aggregation_interval), y=R, color=factor(aggregation_type))) +\n",
    "    geom_boxplot(outlier.shape = NA, lwd=.4) +\n",
    "    geom_point(position = position_jitterdodge(), alpha=0.3, size=.25) +\n",
    "    scale_colour_manual(values=custom_pal) +\n",
    "    labs(x=\"Sampling Period [s]\", y=\"R [kWh]\", color=\"Sampling Mode\") +\n",
    "    guides(col = guide_legend(nrow = 1, byrow = TRUE)) +\n",
    "    custom_theme +\n",
    "    theme(axis.title=element_text(size=8),\n",
    "          axis.title.x=element_text(margin = margin(t = 5, r = 0, b = 0, l = 0)),\n",
    "          axis.title.y=element_text(margin = margin(t = 0, r = 0, b = 0, l = 0)),\n",
    "          legend.title=element_text(size=8),\n",
    "          legend.text=element_text(size=8),\n",
    "          legend.position=c(0.30, 0.80),\n",
    "          legend.margin=margin(c(0,0,0,0)),\n",
    "          axis.text=element_text(size=8),\n",
    "         )"
   ]
  },
  {
   "cell_type": "code",
   "execution_count": null,
   "metadata": {},
   "outputs": [],
   "source": [
    "ggsave(\"export/plot_sampling_periods.pdf\", \n",
    "       plot = last_plot(), \n",
    "       width = 85, \n",
    "       height = 45,\n",
    "       units = \"mm\",\n",
    "       family = \"Linux Libertine Display\")"
   ]
  },
  {
   "cell_type": "markdown",
   "metadata": {},
   "source": [
    "# Extract for `aggregation_interval = 900`"
   ]
  },
  {
   "cell_type": "code",
   "execution_count": null,
   "metadata": {},
   "outputs": [],
   "source": [
    "options(repr.plot.width=2, repr.plot.height=3)\n",
    "df_res %>%\n",
    "    filter(aggregation_type == \"average\", aggregation_interval == 900) %>%\n",
    "    ggplot(aes(x=factor(max_peak), y=R, fill='constant', color='constant')) +\n",
    "    ylim(-3.5, 3.5) +\n",
    "    guides(fill=FALSE, color=FALSE) +\n",
    "    geom_boxplot(outlier.shape = NA, lwd=.4) +\n",
    "    geom_point(alpha=0.4, position = position_jitterdodge(), size=.5) +\n",
    "    labs(x=\"target maximum peak [kW]\", y=\"R [kWh]\", color=\"Max Peak\", caption=\"average\") +\n",
    "    custom_theme +\n",
    "    scale_color_manual(values = custom_pal[1]) +\n",
    "    scale_fill_manual(values = \"white\") +\n",
    "    theme(axis.title=element_text(size=8),\n",
    "          axis.title.x=element_text(margin = margin(t = 5, r = 0, b = 0, l = 0)),\n",
    "          axis.title.y=element_text(margin = margin(t = 0, r = 0, b = 0, l = 0)),\n",
    "          legend.title=element_text(size=8),\n",
    "          legend.text=element_text(size=8),\n",
    "          legend.position=c(0.20, 0.70),\n",
    "          legend.margin=margin(c(0,0,0,0)),\n",
    "          axis.text=element_text(size=8),\n",
    "          plot.caption = element_text(hjust=0.5, size=8, face=\"italic\")\n",
    "         )"
   ]
  },
  {
   "cell_type": "code",
   "execution_count": null,
   "metadata": {},
   "outputs": [],
   "source": [
    "ggsave(\"export/plot_average_900.pdf\", \n",
    "       plot = last_plot(), \n",
    "       width = 40,\n",
    "       height = 45,\n",
    "       units = \"mm\",\n",
    "       family = \"Linux Libertine Display\")"
   ]
  },
  {
   "cell_type": "code",
   "execution_count": null,
   "metadata": {},
   "outputs": [],
   "source": [
    "options(repr.plot.width=2, repr.plot.height=3)\n",
    "df_res %>%\n",
    "    filter(aggregation_type == \"zero-order hold\", aggregation_interval == 900) %>%\n",
    "    ggplot(aes(x=factor(max_peak), y=R, fill='constant', color='constant')) +\n",
    "    ylim(-18, 18) +\n",
    "    guides(fill=FALSE, color=FALSE) +\n",
    "    geom_boxplot(outlier.shape = NA, lwd=.4) +\n",
    "    geom_point(alpha=0.4, position = position_jitterdodge(), size=.5) +\n",
    "    labs(x=\"target maximum peak [kW]\", y=\"R [kWh]\", color=\"Max Peak\", caption=\"zero-order hold\") +\n",
    "    custom_theme +\n",
    "    scale_color_manual(values = custom_pal[2]) +\n",
    "    scale_fill_manual(values = \"white\") +\n",
    "    theme(axis.title=element_text(size=8),\n",
    "          axis.title.x=element_text(margin = margin(t = 5, r = 0, b = 0, l = 0)),\n",
    "          axis.title.y=element_text(margin = margin(t = 0, r = 0, b = 0, l = 0)),\n",
    "          legend.title=element_text(size=8),\n",
    "          legend.text=element_text(size=8),\n",
    "          legend.position=c(0.20, 0.70),\n",
    "          legend.margin=margin(c(0,0,0,0)),\n",
    "          axis.text=element_text(size=8),\n",
    "          plot.caption = element_text(hjust=0.5, size=8, face=\"italic\")\n",
    "         )"
   ]
  },
  {
   "cell_type": "code",
   "execution_count": null,
   "metadata": {},
   "outputs": [],
   "source": [
    "ggsave(\"export/plot_zero_order_hold_900.pdf\", \n",
    "       plot = last_plot(), \n",
    "       width = 40,\n",
    "       height = 45,\n",
    "       units = \"mm\",\n",
    "       family = \"Linux Libertine Display\")"
   ]
  },
  {
   "cell_type": "markdown",
   "metadata": {},
   "source": [
    "### Details on Specific Scenario"
   ]
  },
  {
   "cell_type": "markdown",
   "metadata": {},
   "source": [
    "Calculated C values for `max_peak = 40`, `aggregation_type = average` and `aggregation_interval = 900`"
   ]
  },
  {
   "cell_type": "code",
   "execution_count": null,
   "metadata": {},
   "outputs": [],
   "source": [
    "options(repr.plot.width=6, repr.plot.height=3)\n",
    "df_res %>%\n",
    "    filter(aggregation_type == \"average\", max_peak == 40, aggregation_interval == 900) %>%\n",
    "    ggplot(aes(x=day, y = C)) +\n",
    "    geom_line() +\n",
    "    geom_point(alpha=0.5, color= custom_pal[1]) +\n",
    "    custom_theme"
   ]
  },
  {
   "cell_type": "markdown",
   "metadata": {},
   "source": [
    "Distribution of calculated battery capacities."
   ]
  },
  {
   "cell_type": "code",
   "execution_count": null,
   "metadata": {},
   "outputs": [],
   "source": [
    "options(repr.plot.width=4, repr.plot.height=3)\n",
    "\n",
    "plot_var <- df_res %>% \n",
    "    filter(aggregation_type == \"average\", max_peak == 40, aggregation_interval == 900)\n",
    "\n",
    "qs = quantile(plot_var$C, probs = c(0.5, 0.9, 0.99))\n",
    "\n",
    "ggplot(plot_var, aes(x=C)) +\n",
    "    geom_density() +\n",
    "    geom_vline(xintercept=qs, linetype = \"longdash\", color = custom_pal[1]) +\n",
    "    annotate(geom=\"text\", x=qs+5, y=0.08, label=names(qs)) +\n",
    "    custom_theme"
   ]
  },
  {
   "cell_type": "markdown",
   "metadata": {},
   "source": [
    "# Table Output"
   ]
  },
  {
   "cell_type": "code",
   "execution_count": null,
   "metadata": {},
   "outputs": [],
   "source": [
    "df_res %>% \n",
    "    group_by(aggregation_type, max_peak, aggregation_interval) %>%\n",
    "    summarize(max_C = max(C)) %>%\n",
    "    left_join(df_res %>%\n",
    "        filter(aggregation_interval == 5) %>%\n",
    "        group_by(aggregation_type, max_peak) %>%\n",
    "        summarize(C_true = max(C)) %>%\n",
    "        select(aggregation_type, max_peak, C_true), by = c(\"aggregation_type\", \"max_peak\")) %>%\n",
    "    mutate(R = round(max_C - C_true, 2)) %>%\n",
    "    filter(aggregation_interval %in% c(5, 300, 900, 1800, 3600), max_peak %in% c(38, 40)) %>%\n",
    "    select(aggregation_type, max_peak, aggregation_interval, max_C, R)%>%\n",
    "    gather(variable, value, max_C, R) %>%\n",
    "    unite(tmp, aggregation_type, variable) %>%\n",
    "    spread(tmp, value) -> table_var"
   ]
  },
  {
   "cell_type": "code",
   "execution_count": null,
   "metadata": {},
   "outputs": [],
   "source": [
    "table_var = table_var %>%\n",
    "    filter(aggregation_interval != 5) %>%\n",
    "    select(max_peak, aggregation_interval, \"zero-order hold_max_C\", \"zero-order hold_R\", average_max_C, average_R);\n",
    "table_var"
   ]
  },
  {
   "cell_type": "code",
   "execution_count": null,
   "metadata": {},
   "outputs": [],
   "source": [
    "print(xtable(table_var),\n",
    "      include.rownames=FALSE,\n",
    "      include.colnames = FALSE,\n",
    "      only.contents = TRUE, \n",
    "      booktabs = TRUE, \n",
    "      hline.after = 4,\n",
    "      file = \"export/table_C_comparison.tex\")"
   ]
  }
 ],
 "metadata": {
  "kernelspec": {
   "display_name": "R",
   "language": "R",
   "name": "ir"
  },
  "language_info": {
   "codemirror_mode": "r",
   "file_extension": ".r",
   "mimetype": "text/x-r-source",
   "name": "R",
   "pygments_lexer": "r",
   "version": "3.5.2"
  }
 },
 "nbformat": 4,
 "nbformat_minor": 2
}
