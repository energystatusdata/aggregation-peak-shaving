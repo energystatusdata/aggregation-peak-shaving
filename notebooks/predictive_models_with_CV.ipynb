{
 "cells": [
  {
   "cell_type": "code",
   "execution_count": null,
   "metadata": {},
   "outputs": [],
   "source": [
    "library(tidyverse)\n",
    "library(caret)\n",
    "library(doParallel)\n",
    "library(xtable)"
   ]
  },
  {
   "cell_type": "code",
   "execution_count": null,
   "metadata": {},
   "outputs": [],
   "source": [
    "cl <- makePSOCKcluster(16)\n",
    "registerDoParallel(cl)"
   ]
  },
  {
   "cell_type": "markdown",
   "metadata": {},
   "source": [
    "### Data Loading"
   ]
  },
  {
   "cell_type": "code",
   "execution_count": null,
   "metadata": {},
   "outputs": [],
   "source": [
    "source(\"data_load.R\")"
   ]
  },
  {
   "cell_type": "code",
   "execution_count": null,
   "metadata": {},
   "outputs": [],
   "source": [
    "path <- \"../data\"\n",
    "files <- paste0(path, \"/\", list.files(path = path, pattern = \".csv\"))\n",
    "df <- load_from_path(\"../data\") %>% \n",
    "    mutate(multi = factor(multi)) %>%\n",
    "    filter(max_peak %in% c(38,40,42,45,50,60))"
   ]
  },
  {
   "cell_type": "code",
   "execution_count": null,
   "metadata": {},
   "outputs": [],
   "source": [
    "set.seed(1)"
   ]
  },
  {
   "cell_type": "code",
   "execution_count": null,
   "metadata": {},
   "outputs": [],
   "source": [
    "N_TRAINING_DAYS = 10*7\n",
    "N_RESAMPLES = 20"
   ]
  },
  {
   "cell_type": "code",
   "execution_count": null,
   "metadata": {},
   "outputs": [],
   "source": [
    "train_cols <- c(\"C\", 'q0','q10','q25','q50','q75','q90','q100','mean','std','var',\n",
    "                \"fft1\", \"fft2\", \"fft3\", \"fft4\", \"fft5\", \"fft6\", \"fft7\", \"fft8\",\n",
    "                \"fft1n\", \"fft2n\", \"fft3n\", \"fft4n\", \"fft5n\", \"fft6n\", \"fft7n\", \"fft8n\")"
   ]
  },
  {
   "cell_type": "code",
   "execution_count": null,
   "metadata": {},
   "outputs": [],
   "source": [
    "gbm <- function(train.x, train.y){\n",
    "    fitControl <- trainControl(method = \"repeatedcv\", number=5, repeats=2)\n",
    "    train(x = train.x, y = train.y, method = \"gbm\", trControl = fitControl, verbose=F)\n",
    "}"
   ]
  },
  {
   "cell_type": "code",
   "execution_count": null,
   "metadata": {},
   "outputs": [],
   "source": [
    "# train.x <- df_train[, train_cols] %>% as.data.frame()\n",
    "# train.y <- df_train %>% .[[\"R\"]]\n",
    "# trained_model <- gbm(train.x, train.y)"
   ]
  },
  {
   "cell_type": "code",
   "execution_count": null,
   "metadata": {},
   "outputs": [],
   "source": [
    "# For one specific parameter combination (of max_peak, ...)\n",
    "train_resamples <- function(x, R, C_reference, m){\n",
    "    train_splits <- createDataPartition(1:nrow(R),\n",
    "                                      times = N_RESAMPLES,\n",
    "                                      p = N_TRAINING_DAYS/nrow(x),\n",
    "                                      list=T)\n",
    "    print(train_splits)\n",
    "    improvements <- lapply(train_splits, function(train) {\n",
    "            trained_model <- m(x[train,], R[train,]) # train data on the partition, test on the non-partition\n",
    "            \n",
    "            predictions <- predict(trained_model, x[-train,])\n",
    "            \n",
    "            C_real <- max(C_reference[-train]) # maximum C_reference on test split\n",
    "            C_non_corrected <- max(x[-train,]$C) # maximum C calculated on test split\n",
    "            C_corrected <- max(x[-train,]$C - predictions) # maximum corrected C on test split\n",
    "            error_non_corrected <- C_real - C_non_corrected\n",
    "            error_corrected <- C_real - C_corrected\n",
    "            improvement <- abs(error_non_corrected) - abs(error_corrected)\n",
    "            improvement\n",
    "        }\n",
    "     )\n",
    "    improvements\n",
    "}"
   ]
  },
  {
   "cell_type": "code",
   "execution_count": null,
   "metadata": {},
   "outputs": [],
   "source": [
    "train_on_df_group <- function(df_group){\n",
    "    train.x <- df_group[, train_cols] %>% as.data.frame()\n",
    "    train.y <- df_group %>% select(R) %>% as.data.frame()\n",
    "    train_resamples(train.x, train.y, df_group$C_reference, gbm)\n",
    "}"
   ]
  },
  {
   "cell_type": "code",
   "execution_count": null,
   "metadata": {},
   "outputs": [],
   "source": [
    "df_subset <- df %>% \n",
    "    select(-day, -multi) %>%\n",
    "    filter(max_peak %in% c(40, 38), aggregation_interval %in% c(300, 900, 1800, 3600), !is.na(C))"
   ]
  },
  {
   "cell_type": "code",
   "execution_count": null,
   "metadata": {},
   "outputs": [],
   "source": [
    "results <- df_subset %>%\n",
    "    group_by(max_peak, aggregation_interval, aggregation_type) %>%\n",
    "    nest() %>%\n",
    "    mutate(improvements = map(data, train_on_df_group))"
   ]
  },
  {
   "cell_type": "code",
   "execution_count": null,
   "metadata": {},
   "outputs": [],
   "source": [
    "results %>% select(max_peak, aggregation_interval, aggregation_type, improvements) %>%\n",
    "    unnest() %>%\n",
    "    mutate(improvements = as.numeric(improvements)) %>%\n",
    "    group_by(max_peak, aggregation_interval, aggregation_type) %>%\n",
    "    summarize(median_improvement = median(improvements),\n",
    "              max_improvement = max(improvements)) %>%\n",
    "    gather(variable, value, median_improvement, max_improvement) %>%\n",
    "    unite(tmp, aggregation_type, variable) %>%\n",
    "    spread(tmp, value) -> table_var"
   ]
  },
  {
   "cell_type": "code",
   "execution_count": null,
   "metadata": {},
   "outputs": [],
   "source": [
    "table_var"
   ]
  },
  {
   "cell_type": "code",
   "execution_count": null,
   "metadata": {},
   "outputs": [],
   "source": [
    "print(xtable(table_var),\n",
    "      include.rownames=FALSE,\n",
    "      include.colnames = FALSE,\n",
    "      only.contents = TRUE, \n",
    "      booktabs = TRUE, \n",
    "      hline.after = 4,\n",
    "      file = \"export/table_model_comparison.tex\")"
   ]
  }
 ],
 "metadata": {
  "kernelspec": {
   "display_name": "R",
   "language": "R",
   "name": "ir"
  },
  "language_info": {
   "codemirror_mode": "r",
   "file_extension": ".r",
   "mimetype": "text/x-r-source",
   "name": "R",
   "pygments_lexer": "r",
   "version": "3.5.2"
  }
 },
 "nbformat": 4,
 "nbformat_minor": 2
}
